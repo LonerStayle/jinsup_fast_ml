{
 "cells": [
  {
   "cell_type": "code",
   "execution_count": 3,
   "id": "2c27d603",
   "metadata": {},
   "outputs": [],
   "source": [
    "from sklearn.datasets import fetch_california_housing\n",
    "data = fetch_california_housing()\n",
    "X_data = data.data\n",
    "y_data = data.target"
   ]
  },
  {
   "cell_type": "code",
   "execution_count": 4,
   "id": "3d398c2d",
   "metadata": {},
   "outputs": [],
   "source": [
    "from jinsup_fast_ml import JinsupFastML\n",
    "split = JinsupFastML.data_to_split(X_data,X_data,y_data,y_data)"
   ]
  },
  {
   "cell_type": "code",
   "execution_count": null,
   "id": "74f255bc",
   "metadata": {},
   "outputs": [],
   "source": [
    "import .core import JinsupFastML\n"
   ]
  },
  {
   "cell_type": "code",
   "execution_count": null,
   "id": "01919a43",
   "metadata": {},
   "outputs": [],
   "source": []
  }
 ],
 "metadata": {
  "kernelspec": {
   "display_name": "jinsup_fast_ml",
   "language": "python",
   "name": "python3"
  },
  "language_info": {
   "codemirror_mode": {
    "name": "ipython",
    "version": 3
   },
   "file_extension": ".py",
   "mimetype": "text/x-python",
   "name": "python",
   "nbconvert_exporter": "python",
   "pygments_lexer": "ipython3",
   "version": "3.10.18"
  }
 },
 "nbformat": 4,
 "nbformat_minor": 5
}
